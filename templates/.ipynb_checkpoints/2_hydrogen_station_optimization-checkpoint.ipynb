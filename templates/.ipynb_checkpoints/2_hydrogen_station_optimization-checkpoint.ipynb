{
 "cells": [
  {
   "cell_type": "code",
   "execution_count": null,
   "metadata": {
    "collapsed": true
   },
   "outputs": [],
   "source": [
    "from __future__ import division\n",
    "import matplotlib.pyplot as plt\n",
    "import pandas\n",
    "import pdb, traceback, sys\n",
    "import scipy\n",
    "from scipy import signal\n",
    "import datetime\n",
    "from pyomo.opt import SolverFactory\n",
    "from pyomo.environ import *\n",
    "\n",
    "# Imports useful for graphics\n",
    "import matplotlib.pyplot as plt\n",
    "import seaborn\n",
    "seaborn.set_style(\"whitegrid\")\n",
    "seaborn.despine()\n",
    "%matplotlib inline\n",
    "%config InlineBackend.figure_formats = {'svg',}\n",
    "\n",
    "# Give you access to all the V2G-Sim modules\n",
    "import h2vgi"
   ]
  },
  {
   "cell_type": "code",
   "execution_count": null,
   "metadata": {
    "collapsed": false
   },
   "outputs": [],
   "source": [
    "# Create a project that will hold other objects such as vehicles, locations\n",
    "# car models, charging stations and some results. (see model.Project class)\n",
    "project = h2vgi.model.Project()\n",
    "\n",
    "# Use the itinerary module to import itineraries from an Excel file.\n",
    "# Instantiate a project with the necessary information to run a simulation.\n",
    "# Default values are assumed for the vehicle to model\n",
    "# and the charging infrastructures to simulate.\n",
    "project = h2vgi.itinerary.from_excel(project, '../data/NHTS/Tennessee.xlsx')\n",
    "nb_of_days = 20\n",
    "project = h2vgi.itinerary.copy_append(project, nb_of_days_to_add=nb_of_days)\n",
    "\n",
    "for vehicle in project.vehicles:\n",
    "    vehicle.result_function = h2vgi.result.save_vehicle_power_demand\n",
    "\n",
    "# Launch the simulation and save the results\n",
    "h2vgi.core.run(project, date_from=project.date, date_to=project.date +  datetime.timedelta(days=nb_of_days))"
   ]
  },
  {
   "cell_type": "code",
   "execution_count": null,
   "metadata": {
    "collapsed": true
   },
   "outputs": [],
   "source": [
    "# total cumsumption\n",
    "total_consumption = project.locations[0].result\n",
    "for location in project.locations[1:]:\n",
    "    total_consumption += location.result"
   ]
  },
  {
   "cell_type": "code",
   "execution_count": null,
   "metadata": {
    "collapsed": false,
    "scrolled": false
   },
   "outputs": [],
   "source": [
    "plt.figure(figsize=(12, 5), dpi=60)\n",
    "plt.plot(total_consumption.power_demand.cumsum() * 60)\n",
    "plt.title('Hydrogen consumption at the pump for ' + str(len(project.vehicles)) + ' vehicles')\n",
    "plt.ylabel('Total consumption [kg]')\n",
    "plt.xlabel('Time')\n",
    "plt.show()"
   ]
  },
  {
   "cell_type": "code",
   "execution_count": null,
   "metadata": {
    "collapsed": false
   },
   "outputs": [],
   "source": [
    "# Select a time frame for the simulation\n",
    "number_of_days = 14  # <<<<<<<<<<<<<<<<<<<<<<<<<<<<<<<<<<<<<<<<<<<<\n",
    "off_set_day = 5  # <<<<<<<<<<<<<<<<<<<<<<<<<<<<<<<<<<<<<<<<<<<<\n",
    "times = range(0, number_of_days * 24)\n",
    "\n",
    "# Prep constraints data\n",
    "pmin = -0.01 * 3600 # <<<<<<<<<<<<<<<<<<<<<<<<<<<<<<<<<<<<<<<<<<<<\n",
    "pmax = 0.01 * 3600  # <<<<<<<<<<<<<<<<<<<<<<<<<<<<<<<<<<<<<<<<<<<<\n",
    "pmin = pandas.DataFrame(index=times, data={'pmin': [pmin] * len(times)})\n",
    "pmax = pandas.DataFrame(index=times, data={'pmax': [pmax] * len(times)})  # [kg/s]\n",
    "\n",
    "# Select consumption\n",
    "temp_start = total_consumption.index[0] + datetime.timedelta(days=off_set_day)\n",
    "temp_end = temp_start + datetime.timedelta(days=number_of_days, hours=-1)\n",
    "temp = pandas.DataFrame(total_consumption.power_demand.ix[temp_start:temp_end].cumsum() * 60)\n",
    "temp = temp.resample('60T').first()\n",
    "temp['index'] = times\n",
    "temp = temp.set_index(['index'])\n",
    "\n",
    "# Create Vmin and Vmax\n",
    "minimum_tank = 100  # [kg]  # <<<<<<<<<<<<<<<<<<<<<<<<<<<<<<<<<<<<<<<<<<<<\n",
    "maximum_tank = 500  # [kg]  # <<<<<<<<<<<<<<<<<<<<<<<<<<<<<<<<<<<<<<<<<<<<\n",
    "init_tank = 300  # [kg]  # <<<<<<<<<<<<<<<<<<<<<<<<<<<<<<<<<<<<<<<<<<<<\n",
    "vmin = temp + minimum_tank - init_tank\n",
    "vmax= temp + maximum_tank - init_tank\n",
    "\n",
    "# Prep the price data\n",
    "price_start = datetime.datetime(2015, 6, 17)  # <<<<<<<<<<<<<<<<<<<<<<<<<<<<<<<<<<<<<<<<<<<<\n",
    "price = pandas.read_excel('../data/CAISO_price_data_2015.xlsx')\n",
    "start = datetime.datetime(2015, 1, 1)\n",
    "end = datetime.datetime(2016, 1, 1)\n",
    "i = pandas.date_range(start=start, end=end,\n",
    "                      freq='60T', closed='left')\n",
    "\n",
    "price = price.set_index(i)\n",
    "price = pandas.DataFrame(price['CA_avg_LMP_PRC ($/MWh)'])\n",
    "price.columns = ['value']\n",
    "price = price.ix[price_start:price_start + datetime.timedelta(days=number_of_days, hours=-1)]\n",
    "price['index'] = times\n",
    "price = price.set_index(['index'])"
   ]
  },
  {
   "cell_type": "code",
   "execution_count": null,
   "metadata": {
    "collapsed": false
   },
   "outputs": [],
   "source": [
    "# Launch optimization\n",
    "with SolverFactory('gurobi') as opt:\n",
    "    model = ConcreteModel()\n",
    "    \n",
    "    # Set\n",
    "    model.t = Set(initialize=times, doc='Time', ordered=True)\n",
    "    \n",
    "    # Parameters\n",
    "    model.price = Param(model.t, initialize=price.to_dict()['value'], doc='Price')\n",
    "    model.p_max = Param(model.t, initialize=pmax.to_dict()['pmax'], doc='P max')\n",
    "    model.p_min = Param(model.t, initialize=pmin.to_dict()['pmin'], doc='P min')\n",
    "    model.v_min = Param(model.t, initialize=vmin.to_dict()['power_demand'], doc='E min')\n",
    "    model.v_max = Param(model.t, initialize=vmax.to_dict()['power_demand'], doc='E max')\n",
    "    \n",
    "    # Variables\n",
    "    model.p = Var(model.t, domain=Integers, doc='electricity to hydrogen')\n",
    "    \n",
    "    # Rules\n",
    "    def maximum_power_rule(model, t):\n",
    "        return model.p[t] <= model.p_max[t]\n",
    "    model.power_max_rule = Constraint(model.t, rule=maximum_power_rule, doc='P max rule')\n",
    "\n",
    "    def minimum_power_rule(model, t):\n",
    "        return model.p[t] >= model.p_min[t]\n",
    "    model.power_min_rule = Constraint(model.t, rule=minimum_power_rule, doc='P min rule')\n",
    "\n",
    "    def minimum_energy_rule(model, t):\n",
    "        return sum(model.p[i] for i in range(0, t + 1)) >= model.v_min[t]\n",
    "    model.minimum_energy_rule = Constraint(model.t, rule=minimum_energy_rule, doc='E min rule')\n",
    "\n",
    "    def maximum_energy_rule(model, t):\n",
    "        return sum(model.p[i] for i in range(0, t + 1)) <= model.v_max[t]\n",
    "    model.maximum_energy_rule = Constraint(model.t, rule=maximum_energy_rule, doc='E max rule')\n",
    "    \n",
    "    def objective_rule(model):\n",
    "        return sum([model.p[t] * model.price[t] for t in model.t])\n",
    "    model.objective = Objective(rule=objective_rule, sense=minimize, doc='Define objective function')\n",
    "    \n",
    "    results = opt.solve(model)\n",
    "df = pandas.DataFrame(index=['power'], data=model.p.get_values()).transpose()\n",
    "df.columns = ['a']\n",
    "result_kg = df.copy()\n",
    "result_tank = result_kg.cumsum()\n",
    "df = df * 39  # [kWh/kg]\n",
    "df = df * 1.3  # efficiency without units\n",
    "result_power = df / 1000  # [MWh]\n",
    "result_price = result_power.a * price.value  # hourly dollars\n",
    "result_price = result_price.cumsum()  # dollars"
   ]
  },
  {
   "cell_type": "code",
   "execution_count": null,
   "metadata": {
    "collapsed": false
   },
   "outputs": [],
   "source": [
    "fig, ax1 = plt.subplots(figsize=(11, 5), dpi=60)\n",
    "ax1.plot(price.value, color='red')\n",
    "ax1.set_ylabel('Electricity price [$/MWh]')\n",
    "ax1.grid(b=False, axis='x')\n",
    "\n",
    "ax2 = ax1.twinx()\n",
    "ax2.plot(result_power.a)\n",
    "ax2.set_ylabel('Power consumption [MW]')\n",
    "ax2.grid(b=False)\n",
    "ax1.set_xlabel('Time')\n",
    "plt.show()\n",
    "\n",
    "print('The cost of running the hydrogen station for 2 weeks is ' + str(int(result_price.iloc[-1])) + ' dollars')"
   ]
  },
  {
   "cell_type": "code",
   "execution_count": null,
   "metadata": {
    "collapsed": false
   },
   "outputs": [],
   "source": [
    "# Hydrogen plant characteristics\n",
    "full_tank = 500  # [kg]\n",
    "initial_tank = 500  # [kg]\n",
    "low_level = 0.2  # without units\n",
    "efficiency = 1.3  # without units\n",
    "hydrogen_production = 0.01  # [kg/s]\n",
    "hydrogen_to_watt = 39  # [kWh/kg]\n",
    "\n",
    "# http://www.renewableenergyfocus.com/view/3157/hydrogen-production-from-renewables/\n",
    "generator_on = False\n",
    "tank_level = [initial_tank]\n",
    "power_consumption = []\n",
    "on = []\n",
    "vehicle_consumption = total_consumption.power_demand.ix[temp_start:temp_end].tolist()  # [kg/s] every minutes\n",
    "\n",
    "# Simulate the hydrogen station cycles\n",
    "for consumed in vehicle_consumption:\n",
    "    # Append consumption\n",
    "    tank_level.append(tank_level[-1] - consumed * 60)  # same power consumption within the minute\n",
    "    \n",
    "    # If the level is too low and the generator is not running\n",
    "    if (tank_level[-1] / full_tank <= low_level) and not generator_on:\n",
    "        # Start the generator\n",
    "        generator_on = True\n",
    "    else:\n",
    "        # Do nothing\n",
    "        pass\n",
    "    \n",
    "    # Save generator state\n",
    "    on.append(generator_on)\n",
    "    \n",
    "    # If the generator is on -> increase tank level\n",
    "    if generator_on:\n",
    "        tank_level[-1] += hydrogen_production * 60  # [kg/s]\n",
    "        # [kg/h] * [kWh/kg] = kW \n",
    "        power_consumption.append(hydrogen_production * 3600 * hydrogen_to_watt * efficiency)\n",
    "        \n",
    "        # If the full level is reached turn generator off\n",
    "        if tank_level[-1] >= full_tank:\n",
    "            generator_on = False\n",
    "    \n",
    "    # If generator is off there is no electric consumption\n",
    "    else:\n",
    "        power_consumption.append(0.0)\n",
    "\n",
    "# Remove initial value?\n",
    "del tank_level[0]\n",
    "\n",
    "# Create frame to gather all the results\n",
    "station = pandas.DataFrame(index=total_consumption.ix[temp_start:temp_end].index, data={'power': power_consumption,\n",
    "                                                                'tank': tank_level,\n",
    "                                                                'on': on})"
   ]
  },
  {
   "cell_type": "code",
   "execution_count": null,
   "metadata": {
    "collapsed": false
   },
   "outputs": [],
   "source": [
    "station.power.head()"
   ]
  }
 ],
 "metadata": {
  "kernelspec": {
   "display_name": "Python 2",
   "language": "python",
   "name": "python2"
  },
  "language_info": {
   "codemirror_mode": {
    "name": "ipython",
    "version": 2
   },
   "file_extension": ".py",
   "mimetype": "text/x-python",
   "name": "python",
   "nbconvert_exporter": "python",
   "pygments_lexer": "ipython2",
   "version": "2.7.11"
  }
 },
 "nbformat": 4,
 "nbformat_minor": 0
}
