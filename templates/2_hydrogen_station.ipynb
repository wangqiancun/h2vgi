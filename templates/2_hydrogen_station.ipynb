{
 "cells": [
  {
   "cell_type": "code",
   "execution_count": 1,
   "metadata": {},
   "outputs": [
    {
     "name": "stderr",
     "output_type": "stream",
     "text": [
      "/Library/Frameworks/Python.framework/Versions/2.7/lib/python2.7/site-packages/matplotlib/font_manager.py:273: UserWarning: Matplotlib is building the font cache using fc-list. This may take a moment.\n",
      "  warnings.warn('Matplotlib is building the font cache using fc-list. This may take a moment.')\n",
      "/Library/Frameworks/Python.framework/Versions/2.7/lib/python2.7/site-packages/matplotlib/__init__.py:872: UserWarning: axes.color_cycle is deprecated and replaced with axes.prop_cycle; please use the latter.\n",
      "  warnings.warn(self.msg_depr % (key, alt_key))\n"
     ]
    }
   ],
   "source": [
    "from __future__ import division\n",
    "import matplotlib.pyplot as plt\n",
    "import pandas\n",
    "import pdb, traceback, sys\n",
    "import scipy\n",
    "from scipy import signal\n",
    "import datetime\n",
    "\n",
    "# Imports useful for graphics\n",
    "import matplotlib.pyplot as plt\n",
    "import seaborn\n",
    "seaborn.set_style(\"whitegrid\")\n",
    "seaborn.despine()\n",
    "%matplotlib inline\n",
    "%config InlineBackend.figure_formats = {'svg',}\n",
    "\n",
    "# Give you access to all the V2G-Sim modules\n",
    "import h2vgi"
   ]
  },
  {
   "cell_type": "code",
   "execution_count": null,
   "metadata": {},
   "outputs": [
    {
     "name": "stdout",
     "output_type": "stream",
     "text": [
      "itinerary.from_excel(project, ../data/NHTS/Tennessee.xlsx)\n",
      "Loading ...\n"
     ]
    },
    {
     "name": "stderr",
     "output_type": "stream",
     "text": []
    }
   ],
   "source": [
    "# Create a project that will hold other objects such as vehicles, locations\n",
    "# car models, charging stations and some results. (see model.Project class)\n",
    "project = h2vgi.model.Project()\n",
    "\n",
    "# Use the itinerary module to import itineraries from an Excel file.\n",
    "# Instantiate a project with the necessary information to run a simulation.\n",
    "# Default values are assumed for the vehicle to model\n",
    "# and the charging infrastructures to simulate.\n",
    "project = h2vgi.itinerary.from_excel(project, '../data/NHTS/Tennessee.xlsx')\n",
    "nb_of_days = 40\n",
    "project = h2vgi.itinerary.copy_append(project, nb_of_days_to_add=nb_of_days)\n",
    "\n",
    "for vehicle in project.vehicles:\n",
    "    vehicle.result_function = h2vgi.result.save_vehicle_power_demand\n",
    "\n",
    "# Launch the simulation and save the results\n",
    "h2vgi.core.run(project, date_from=project.date, date_to=project.date +  datetime.timedelta(days=nb_of_days))"
   ]
  },
  {
   "cell_type": "code",
   "execution_count": null,
   "metadata": {},
   "outputs": [],
   "source": [
    "# total cumsumption\n",
    "total_consumption = project.locations[0].result\n",
    "for location in project.locations[1:]:\n",
    "    total_consumption += location.result"
   ]
  },
  {
   "cell_type": "code",
   "execution_count": null,
   "metadata": {},
   "outputs": [],
   "source": [
    "plt.figure(figsize=(12, 5), dpi=60)\n",
    "plt.plot(total_consumption.power_demand.cumsum() * 60)\n",
    "plt.title('Hydrogen consumption at the pump for ' + str(len(project.vehicles)) + ' vehicles')\n",
    "plt.ylabel('Total consumption [kg]')\n",
    "plt.xlabel('Time')\n",
    "plt.show()"
   ]
  },
  {
   "cell_type": "code",
   "execution_count": null,
   "metadata": {},
   "outputs": [],
   "source": [
    "# Hydrogen plant characteristics\n",
    "full_tank = 500  # [kg]\n",
    "initial_tank = 500  # [kg]\n",
    "low_level = 0.2  # without units\n",
    "efficiency = 1.3  # without units\n",
    "hydrogen_production = 0.01  # [kg/s]\n",
    "hydrogen_to_watt = 39  # [kWh/kg]\n",
    "\n",
    "# http://www.renewableenergyfocus.com/view/3157/hydrogen-production-from-renewables/\n",
    "generator_on = False\n",
    "tank_level = [initial_tank]\n",
    "power_consumption = []\n",
    "on = []\n",
    "vehicle_consumption = total_consumption.power_demand.tolist()  # [kg/s] every minutes\n",
    "\n",
    "# Simulate the hydrogen station cycles\n",
    "for consumed in vehicle_consumption:\n",
    "    # Append consumption\n",
    "    tank_level.append(tank_level[-1] - consumed * 60)  # same power consumption within the minute\n",
    "    \n",
    "    # If the level is too low and the generator is not running\n",
    "    if (tank_level[-1] / full_tank <= low_level) and not generator_on:\n",
    "        # Start the generator\n",
    "        generator_on = True\n",
    "    else:\n",
    "        # Do nothing\n",
    "        pass\n",
    "    \n",
    "    # Save generator state\n",
    "    on.append(generator_on)\n",
    "    \n",
    "    # If the generator is on -> increase tank level\n",
    "    if generator_on:\n",
    "        tank_level[-1] += hydrogen_production * 60  # [kg/s]\n",
    "        # [kg/h] * [kWh/kg] = kW \n",
    "        power_consumption.append(hydrogen_production * 3600 * hydrogen_to_watt * efficiency)\n",
    "        \n",
    "        # If the full level is reached turn generator off\n",
    "        if tank_level[-1] >= full_tank:\n",
    "            generator_on = False\n",
    "    \n",
    "    # If generator is off there is no electric consumption\n",
    "    else:\n",
    "        power_consumption.append(0.0)\n",
    "\n",
    "# Remove initial value?\n",
    "del tank_level[0]\n",
    "\n",
    "# Create frame to gather all the results\n",
    "station = pandas.DataFrame(index=total_consumption.index, data={'power': power_consumption,\n",
    "                                                                'tank': tank_level,\n",
    "                                                                'on': on})"
   ]
  },
  {
   "cell_type": "code",
   "execution_count": null,
   "metadata": {},
   "outputs": [],
   "source": [
    "plt.figure(figsize=(11, 5), dpi=60)\n",
    "plt.plot(station.power)\n",
    "plt.ylabel('Power consumption [kW]')\n",
    "plt.xlabel('Time')\n",
    "plt.show()"
   ]
  },
  {
   "cell_type": "code",
   "execution_count": null,
   "metadata": {},
   "outputs": [],
   "source": [
    "plt.figure(figsize=(11, 5), dpi=60)\n",
    "plt.plot(station.tank)\n",
    "plt.ylabel('Tank level [kg]')\n",
    "plt.xlabel('Time')\n",
    "plt.show()"
   ]
  },
  {
   "cell_type": "code",
   "execution_count": null,
   "metadata": {},
   "outputs": [],
   "source": [
    "duration = []\n",
    "period = []\n",
    "already_on = False\n",
    "minute_to_hour = 1 / 60\n",
    "\n",
    "# duration distribution\n",
    "for value in station.itertuples():\n",
    "    if value.on and not already_on:\n",
    "        # Start the count\n",
    "        already_on = True\n",
    "        temp_count = 0\n",
    "    \n",
    "    if not value.on and already_on:\n",
    "        already_on = False\n",
    "        duration.append(temp_count * minute_to_hour)\n",
    "    \n",
    "    if already_on:\n",
    "        temp_count += 1\n",
    "\n",
    "already_off = False\n",
    "# frequency distribution\n",
    "for value in station.itertuples():\n",
    "    if not value.on and not already_off:\n",
    "        # Start the count\n",
    "        already_off = True\n",
    "        temp_count = 0\n",
    "    \n",
    "    if value.on and already_off:\n",
    "        already_off = False\n",
    "        period.append(temp_count * minute_to_hour)\n",
    "    \n",
    "    if already_off:\n",
    "        temp_count += 1\n",
    "# Remove first one\n",
    "del period[0]"
   ]
  },
  {
   "cell_type": "code",
   "execution_count": null,
   "metadata": {},
   "outputs": [],
   "source": [
    "plt.figure(figsize=(11, 4), dpi=60)\n",
    "plt.scatter([i for i in range(1, len(duration)+1)], duration)\n",
    "plt.ylabel('Duration of a station on cycle [hours]')\n",
    "plt.xlabel('Cycle id')\n",
    "plt.show()"
   ]
  },
  {
   "cell_type": "code",
   "execution_count": null,
   "metadata": {},
   "outputs": [],
   "source": [
    "plt.figure(figsize=(11, 4), dpi=60)\n",
    "plt.scatter([i for i in range(1, len(period)+1)], period)\n",
    "plt.ylabel('Period between station turning on [hours]')\n",
    "plt.xlabel('Cycle id')\n",
    "plt.show()"
   ]
  },
  {
   "cell_type": "code",
   "execution_count": null,
   "metadata": {},
   "outputs": [],
   "source": [
    "print('Utilization factor: ' + str(station[station.on == True].on.count() * 100 / len(station)) + ' %')"
   ]
  }
 ],
 "metadata": {
  "kernelspec": {
   "display_name": "Python 2",
   "language": "python",
   "name": "python2"
  },
  "language_info": {
   "codemirror_mode": {
    "name": "ipython",
    "version": 2.0
   },
   "file_extension": ".py",
   "mimetype": "text/x-python",
   "name": "python",
   "nbconvert_exporter": "python",
   "pygments_lexer": "ipython2",
   "version": "2.7.11"
  }
 },
 "nbformat": 4,
 "nbformat_minor": 0
}